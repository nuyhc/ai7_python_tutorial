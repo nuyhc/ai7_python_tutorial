{
 "cells": [
  {
   "cell_type": "markdown",
   "metadata": {},
   "source": [
    "# 1. 변수와 자료형\n",
    "\n",
    "##### [직접 해보기] Hello World가 3번 출력되게 만들기"
   ]
  },
  {
   "cell_type": "code",
   "execution_count": 1,
   "metadata": {},
   "outputs": [
    {
     "name": "stdout",
     "output_type": "stream",
     "text": [
      "Hello World\n",
      "Hello World\n",
      "Hello World\n"
     ]
    }
   ],
   "source": [
    "print(\"Hello World\")\n",
    "print(\"Hello World\")\n",
    "print(\"Hello World\")"
   ]
  },
  {
   "cell_type": "markdown",
   "metadata": {},
   "source": [
    "##### [직접해보기] 자신을 소개하는 문장을 작성해 변수에 담고 출력해보기"
   ]
  },
  {
   "cell_type": "code",
   "execution_count": 2,
   "metadata": {},
   "outputs": [
    {
     "name": "stdout",
     "output_type": "stream",
     "text": [
      "안녕하세요 멋쟁이 사자처럼 AI School 7기 ~~~입니다\n"
     ]
    }
   ],
   "source": [
    "s = \"안녕하세요 멋쟁이 사자처럼 AI School 7기 ~~~입니다\"\n",
    "\n",
    "print(s)"
   ]
  },
  {
   "cell_type": "markdown",
   "metadata": {},
   "source": [
    "##### [직접 해보기] 아래 코드를 주석을 사용해 정상적으로 작동하도록 수정하기"
   ]
  },
  {
   "cell_type": "code",
   "execution_count": 3,
   "metadata": {},
   "outputs": [
    {
     "name": "stdout",
     "output_type": "stream",
     "text": [
      "멋쟁이 사자처럼 AI School 7기\n",
      "반갑습니다!\n"
     ]
    }
   ],
   "source": [
    "print(\"멋쟁이 사자처럼 AI School 7기\")\n",
    "\n",
    "# 반갑습니다!\n",
    "\n",
    "print(\"반갑습니다!\")"
   ]
  },
  {
   "cell_type": "markdown",
   "metadata": {},
   "source": [
    "##### [직접 해보기] 기본적인 연산 해보기"
   ]
  },
  {
   "cell_type": "code",
   "execution_count": 4,
   "metadata": {},
   "outputs": [
    {
     "name": "stdout",
     "output_type": "stream",
     "text": [
      "sum: 36\n",
      "dif: 30\n",
      "mul: 99\n",
      "div: 11.0\n",
      "remain: 0\n",
      "power: 35937\n"
     ]
    }
   ],
   "source": [
    "num1, num2 = 33, 3\n",
    "\n",
    "# 합\n",
    "sum = num1 + num2\n",
    "# 차\n",
    "dif = num1 - num2\n",
    "# 곱\n",
    "mul = num1 * num2\n",
    "# 나누기\n",
    "div = num1 / num2\n",
    "# 나머지\n",
    "remain = num1 % num2\n",
    "# 제곱\n",
    "power = num1 ** num2\n",
    "\n",
    "print(f\"sum: {sum}\\ndif: {dif}\\nmul: {mul}\\ndiv: {div}\\nremain: {remain}\\npower: {power}\")"
   ]
  },
  {
   "cell_type": "markdown",
   "metadata": {},
   "source": [
    "##### [직접 해보기] 나이, 키와 이름 입력 받기\n",
    "파이썬은 `input` 함수를 이용해 입력을 받고 기본적으로 문자열로 입력 받습니다.  \n",
    "나이, 키와 이름을 입력 받아, 나이는 정수형으로, 키는 실수형으로 변환해 타입과 함께 출력해봅니다."
   ]
  },
  {
   "cell_type": "code",
   "execution_count": 5,
   "metadata": {},
   "outputs": [
    {
     "name": "stdout",
     "output_type": "stream",
     "text": [
      "이름: ~~~ 키 180\n"
     ]
    }
   ],
   "source": [
    "name = input(\"이름을 입력해주세요: \")\n",
    "h = input(\"키를 입력해주세요: \")\n",
    "\n",
    "print(f\"이름: {name} 키 {h}\")"
   ]
  },
  {
   "cell_type": "markdown",
   "metadata": {},
   "source": [
    "##### [직접 해보기] 무지개 색을 출력하는 코드 작성하기"
   ]
  },
  {
   "cell_type": "code",
   "execution_count": 6,
   "metadata": {},
   "outputs": [
    {
     "name": "stdout",
     "output_type": "stream",
     "text": [
      "무지개의 첫 번째 색은 빨강 입니다.\n"
     ]
    }
   ],
   "source": [
    "rainbow = [\"빨강\", \"주황\", \"노랑\", \"초록\", \"파랑\", \"남색\", \"보라\"]\n",
    "\n",
    "first_color = rainbow[0]\n",
    "\n",
    "print(f\"무지개의 첫 번째 색은 {first_color} 입니다.\")"
   ]
  },
  {
   "cell_type": "code",
   "execution_count": 8,
   "metadata": {},
   "outputs": [
    {
     "name": "stdout",
     "output_type": "stream",
     "text": [
      "무지개의 마지막 색은 보라 입니다.\n"
     ]
    }
   ],
   "source": [
    "rainbow = [\"빨강\", \"주황\", \"노랑\", \"초록\", \"파랑\", \"남색\", \"보라\"]\n",
    "\n",
    "# last_color = rainbow[-1]\n",
    "last_color = rainbow[6]\n",
    "\n",
    "print(f\"무지개의 마지막 색은 {last_color} 입니다.\")"
   ]
  },
  {
   "cell_type": "markdown",
   "metadata": {},
   "source": [
    "##### [직접 해보기] 끝에 원소 4를 추가하기"
   ]
  },
  {
   "cell_type": "code",
   "execution_count": 9,
   "metadata": {},
   "outputs": [
    {
     "name": "stdout",
     "output_type": "stream",
     "text": [
      "[1, 2, 3, 4]\n"
     ]
    }
   ],
   "source": [
    "l = [1, 2, 3]\n",
    "\n",
    "l.append(4)\n",
    "\n",
    "print(l)"
   ]
  },
  {
   "cell_type": "markdown",
   "metadata": {},
   "source": [
    "##### [직접 해보기] 2를 지우고 [1, 3]"
   ]
  },
  {
   "cell_type": "code",
   "execution_count": 10,
   "metadata": {},
   "outputs": [
    {
     "name": "stdout",
     "output_type": "stream",
     "text": [
      "[1, 3]\n"
     ]
    }
   ],
   "source": [
    "l = [1, 2, 3]\n",
    "\n",
    "l.remove(2)\n",
    "\n",
    "print(l)"
   ]
  },
  {
   "cell_type": "markdown",
   "metadata": {},
   "source": [
    "##### [직접 해보기] 월별 영단어 딕셔너리 만들기"
   ]
  },
  {
   "cell_type": "code",
   "execution_count": 16,
   "metadata": {},
   "outputs": [
    {
     "data": {
      "text/plain": [
       "'July'"
      ]
     },
     "execution_count": 16,
     "metadata": {},
     "output_type": "execute_result"
    }
   ],
   "source": [
    "month = {\n",
    "    \"1월\" : \"January\",\n",
    "    \"2월\" : \"February\",\n",
    "    \"3월\" : \"March\",\n",
    "    \"4월\" : \"April\",\n",
    "    \"5월\" : \"May\",\n",
    "    \"6월\" : \"June\",\n",
    "    \"7월\" : \"July\",\n",
    "    \"8월\" : \"August\",\n",
    "    \"9월\" : \"September\",\n",
    "    \"10월\" : \"October\",\n",
    "    \"11월\" : \"November\",\n",
    "    \"12월\" : \"December\"\n",
    "}\n",
    "\n",
    "\n",
    "month[\"7월\"]"
   ]
  },
  {
   "cell_type": "markdown",
   "metadata": {},
   "source": [
    "# 2. 조건문"
   ]
  },
  {
   "cell_type": "markdown",
   "metadata": {},
   "source": [
    "#### [직접 해보기] 조건식 만들기\n",
    "`hour` 변수에 현재 시각을 저장해 두었고, 현재 시각이 12시보다 빠를 때만 print문이 동작하게 조건식 세우기"
   ]
  },
  {
   "cell_type": "code",
   "execution_count": 17,
   "metadata": {},
   "outputs": [
    {
     "name": "stdout",
     "output_type": "stream",
     "text": [
      "오후입니다!\n"
     ]
    }
   ],
   "source": [
    "from datetime import datetime\n",
    "\n",
    "hour = datetime.now().hour\n",
    "\n",
    "if hour>12:\n",
    "    print(\"오후입니다!\")"
   ]
  },
  {
   "cell_type": "markdown",
   "metadata": {},
   "source": [
    "##### [직접 해보기] 어떤 수가 3의 배수인지 판별해보기"
   ]
  },
  {
   "cell_type": "code",
   "execution_count": 18,
   "metadata": {},
   "outputs": [
    {
     "name": "stdout",
     "output_type": "stream",
     "text": [
      "12은 3의 배수 입니다!\n"
     ]
    }
   ],
   "source": [
    "num = int(input())\n",
    "\n",
    "if num%3==0:\n",
    "    print(f\"{num}은 3의 배수 입니다!\")"
   ]
  },
  {
   "cell_type": "markdown",
   "metadata": {},
   "source": [
    "##### [직접 해보기] 가위바위보 게임 만들기"
   ]
  },
  {
   "cell_type": "code",
   "execution_count": 23,
   "metadata": {},
   "outputs": [
    {
     "name": "stdout",
     "output_type": "stream",
     "text": [
      "사용자 입력이 잘못된거 같은데요? 키위\n"
     ]
    }
   ],
   "source": [
    "import random\n",
    "\n",
    "r = random.choice([\"가위\", \"바위\", \"보\"])\n",
    "user = input(\"가위 바위 보!\")\n",
    "\n",
    "if r==user:\n",
    "    print(f\"{r}(컴퓨터) - {user}(사용자)로 비겻습니다!\")\n",
    "elif user==\"가위\":\n",
    "    if r==\"바위\":\n",
    "        print(f\"{r}(컴퓨터) - {user}(사용자)로 졌습니다..\")\n",
    "    else:\n",
    "        print(f\"{r}(컴퓨터) - {user}(사용자)로 이겼습니다!\")\n",
    "elif user==\"바위\":\n",
    "    if r==\"보\":\n",
    "        print(f\"{r}(컴퓨터) - {user}(사용자)로 졌습니다..\")\n",
    "    else:\n",
    "        print(f\"{r}(컴퓨터) - {user}(사용자)로 이겼습니다!\")\n",
    "elif user==\"보\":\n",
    "    if r==\"가위\":\n",
    "        print(f\"{r}(컴퓨터) - {user}(사용자)로 졌습니다..\")\n",
    "    else:\n",
    "        print(f\"{r}(컴퓨터) - {user}(사용자)로 이겼습니다!\")\n",
    "else:\n",
    "    print(f\"사용자 입력이 잘못된거 같은데요? {user}\")"
   ]
  },
  {
   "cell_type": "markdown",
   "metadata": {},
   "source": [
    "# 3. 반복문"
   ]
  },
  {
   "cell_type": "markdown",
   "metadata": {},
   "source": [
    "##### [직접 해보기] 무지개의 색상을 순서와 함께 출력해보기"
   ]
  },
  {
   "cell_type": "code",
   "execution_count": 26,
   "metadata": {},
   "outputs": [
    {
     "name": "stdout",
     "output_type": "stream",
     "text": [
      "무지개의 1번째 색은 빨 입니다!\n",
      "무지개의 2번째 색은 주 입니다!\n",
      "무지개의 3번째 색은 노 입니다!\n",
      "무지개의 4번째 색은 초 입니다!\n",
      "무지개의 5번째 색은 파 입니다!\n",
      "무지개의 6번째 색은 남 입니다!\n",
      "무지개의 7번째 색은 보 입니다!\n"
     ]
    }
   ],
   "source": [
    "rainbow = [\"빨\", \"주\", \"노\", \"초\", \"파\", \"남\", \"보\"]\n",
    "\n",
    "for idx, color in enumerate(rainbow):\n",
    "    print(f\"무지개의 {idx+1}번째 색은 {color} 입니다!\")"
   ]
  },
  {
   "cell_type": "markdown",
   "metadata": {},
   "source": [
    "##### [직접 해보기] while문 작성해보기\n",
    "모든 값 출력하기"
   ]
  },
  {
   "cell_type": "code",
   "execution_count": 27,
   "metadata": {},
   "outputs": [
    {
     "name": "stdout",
     "output_type": "stream",
     "text": [
      "1\n",
      "2\n",
      "3\n",
      "4\n",
      "5\n"
     ]
    }
   ],
   "source": [
    "numbers = [1, 2, 3, 4, 5]\n",
    "\n",
    "i = 0\n",
    "while i<len(numbers):\n",
    "    print(numbers[i])\n",
    "    i += 1"
   ]
  },
  {
   "cell_type": "markdown",
   "metadata": {},
   "source": [
    "##### [직접 해보기] 짝수만 출력해보기\n",
    "`반복문`과 `조건문`을 사용해 1부터 50까지의 짝수만 출력해보기,  \n",
    "`print()` 함수의 `end=` 옵션을 이용하면 출력 형식에 변화를 줄 수 있습니다."
   ]
  },
  {
   "cell_type": "code",
   "execution_count": 30,
   "metadata": {},
   "outputs": [
    {
     "name": "stdout",
     "output_type": "stream",
     "text": [
      "2 4 6 8 10 12 14 16 18 20 22 24 26 28 30 32 34 36 38 40 42 44 46 48 50 "
     ]
    }
   ],
   "source": [
    "for i in range(1, 51):\n",
    "    if i%2==0:\n",
    "        print(i, end=\" \")"
   ]
  },
  {
   "cell_type": "code",
   "execution_count": 32,
   "metadata": {},
   "outputs": [
    {
     "name": "stdout",
     "output_type": "stream",
     "text": [
      "2 4 6 8 10 12 14 16 18 20 22 24 26 28 30 32 34 36 38 40 42 44 46 48 50 "
     ]
    }
   ],
   "source": [
    "for i in range(2, 51, 2): # range(start, end, step) <= step 값을 조정해 출력하는 방법도 있습니다!\n",
    "    print(i, end=\" \")"
   ]
  },
  {
   "cell_type": "markdown",
   "metadata": {},
   "source": [
    "##### [직접 해보기] 값이 32인 값들의 인덱스(위치)를 모두 출력하기"
   ]
  },
  {
   "cell_type": "code",
   "execution_count": 33,
   "metadata": {},
   "outputs": [
    {
     "name": "stdout",
     "output_type": "stream",
     "text": [
      "4\n",
      "7\n"
     ]
    }
   ],
   "source": [
    "s = [33, 35, 34, 37, 32, 35, 39, 32, 35, 29]\n",
    "\n",
    "for i, size in enumerate(s): # enumerate는 인덱스와 값을 묶어 반환하는 함수\n",
    "    if size==32:\n",
    "        print(i)"
   ]
  },
  {
   "cell_type": "markdown",
   "metadata": {},
   "source": [
    "# 4. 함수"
   ]
  },
  {
   "cell_type": "markdown",
   "metadata": {},
   "source": [
    "#### [직접 해보기] 이름과 나이를 입력 받아 출력하는 함수 작성해보기"
   ]
  },
  {
   "cell_type": "code",
   "execution_count": 35,
   "metadata": {},
   "outputs": [
    {
     "name": "stdout",
     "output_type": "stream",
     "text": [
      "김채현 30\n"
     ]
    }
   ],
   "source": [
    "def input_name_and_age_print():\n",
    "    name, age = input().split()\n",
    "    print(name, age)\n",
    "\n",
    "input_name_and_age_print()"
   ]
  },
  {
   "cell_type": "markdown",
   "metadata": {},
   "source": [
    "##### [직접 해보기] 계산기 만들기\n",
    "사칙 연산 기호 (+, -, *, /)와 2개의 수를 입력 받아 알맞은 연산 결과를 반환하는 함수 작성"
   ]
  },
  {
   "cell_type": "code",
   "execution_count": 36,
   "metadata": {},
   "outputs": [
    {
     "name": "stdout",
     "output_type": "stream",
     "text": [
      "4\n"
     ]
    }
   ],
   "source": [
    "def calculator(op, num1, num2):\n",
    "    if op==\"+\":\n",
    "        return num1 + num2\n",
    "    elif op==\"-\":\n",
    "        return num1 - num2\n",
    "    elif op==\"*\":\n",
    "        return num1 * num2\n",
    "    elif op==\"/\":\n",
    "        return num1 / num2\n",
    "\n",
    "op, num1, num2 = \"+\", 1, 3\n",
    "\n",
    "r = calculator(op, num1, num2)\n",
    "print(r)"
   ]
  }
 ],
 "metadata": {
  "kernelspec": {
   "display_name": "Python 3.9.12 64-bit",
   "language": "python",
   "name": "python3"
  },
  "language_info": {
   "codemirror_mode": {
    "name": "ipython",
    "version": 3
   },
   "file_extension": ".py",
   "mimetype": "text/x-python",
   "name": "python",
   "nbconvert_exporter": "python",
   "pygments_lexer": "ipython3",
   "version": "3.9.12"
  },
  "orig_nbformat": 4,
  "vscode": {
   "interpreter": {
    "hash": "ca7051211f7d0cb84f9a5276aced427e23f2f109de898d0e63a1c129a12d67d5"
   }
  }
 },
 "nbformat": 4,
 "nbformat_minor": 2
}
