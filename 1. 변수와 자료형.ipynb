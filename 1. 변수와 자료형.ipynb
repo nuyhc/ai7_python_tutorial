{
 "cells": [
  {
   "cell_type": "markdown",
   "metadata": {},
   "source": [
    "# 멋쟁이 사자처럼 AI School 7기 \n",
    "## Part 1. 변수와 자료형\n",
    "### 1. [Python](https://ko.wikipedia.org/wiki/%ED%8C%8C%EC%9D%B4%EC%8D%AC#%EA%B0%99%EC%9D%B4_%EB%B3%B4%EA%B8%B0) 로컬 환경 구축하기\n",
    "리눅스나 맥에는 보통 파이썬이 설치되어 있지만, 주로 pytho 2.x 버전이 설치되어 있음  \n",
    "윈도우는 파이썬이 기본적으로 설치되어 있지 않아 파이썬을 따로 설치해줘야 함  \n",
    "\n",
    "#### 1-1. [Anaconda(아나콘다)](https://ko.wikipedia.org/wiki/%EC%95%84%EB%82%98%EC%BD%98%EB%8B%A4_(%ED%8C%8C%EC%9D%B4%EC%8D%AC_%EB%B0%B0%ED%8F%AC%ED%8C%90))\n",
    "**아나콘다(Anaconda)** 는 파이썬을 포함한 데이터 과학에 필요한 다양한 언어 및 패키지의 배포  \n",
    "[아나콘다 설치 링크](https://www.anaconda.com/products/distribution)\n",
    "\n",
    "윈도우와 맥(M계열 칩)까지 현재 지원하는 상태\n",
    "\n",
    "![png](./template/part1/anaconda_powershell.png)  \n",
    "(맥os의 경우 `command+스페이스바`로 열린 창에서 **터미널** 검색)\n",
    "\n",
    "##### Conda & Python 버전 확인\n",
    "- `conda --version`\n",
    "- `python --version`\n",
    "\n",
    "![png](./template/part1/version.png)  "
   ]
  },
  {
   "cell_type": "code",
   "execution_count": 4,
   "metadata": {},
   "outputs": [
    {
     "name": "stdout",
     "output_type": "stream",
     "text": [
      "conda 4.14.0\n"
     ]
    }
   ],
   "source": [
    "# !conda --version"
   ]
  },
  {
   "cell_type": "code",
   "execution_count": 3,
   "metadata": {},
   "outputs": [
    {
     "name": "stdout",
     "output_type": "stream",
     "text": [
      "Python 3.9.12\n"
     ]
    }
   ],
   "source": [
    "# !python --version"
   ]
  },
  {
   "cell_type": "markdown",
   "metadata": {},
   "source": [
    "#### 1-2. 주피터 노트북과 Visual Studio Code\n",
    "![png](./template/part1/anaconda_navigator.png)\n",
    "\n",
    "- 주피터 노트북은 파이썬과 마크다운 문법을 지원하며 `.ipynb` 형식의 확장자 명을 갖고 있음\n",
    "- 쉘 단위로 실행 할 수 있으며(단계적으로 실행 가능한), 학습 목적으로 정리와 코드 실행에 용이해 추천하는 Python 개발자 도구임\n",
    "\n",
    "##### [Visual Studio Code](https://ko.wikipedia.org/wiki/%EB%B9%84%EC%A3%BC%EC%96%BC_%EC%8A%A4%ED%8A%9C%EB%94%94%EC%98%A4_%EC%BD%94%EB%93%9C)\n",
    "마이크로소프트가 개발한 소스 코드 편집기로 다양한 프로그래밍 언어를 작성하고 실행 시킬 수 있음  \n",
    "다양한 편의 기능을 제공하므로 개인적으로 추천하는 IDE 중 하나\n",
    "\n",
    "[VSC 설치 링크](https://code.visualstudio.com/)  \n",
    "\n",
    "- Python\n",
    "- Python Extension Pack\n",
    "- Python Indent or indent-rainbow\n",
    "- Jupyter\n",
    "- Jupyter Keymap\n",
    "- Jupyter Notebook Renderers\n",
    "- Prettier\n",
    "\n",
    "#### 1-3. 주피터 노트북에서 유용한 단축키\n",
    "1. 셀 선택하기: `esc`와 방향키 이용\n",
    "2. 셀이 선택된 상황에서 셀 추가하기\n",
    "   1. `a`: 선택된 셀 위쪽에 새로운 셀 추가\n",
    "   2. `b`: 선택된 셀 아래쪽에 새로운 셀 추가\n",
    "3. 셀 삭제하기: `dd`\n",
    "4. 셀 실행하기: `ctrl + enter` (맥 os도 동일)\n",
    "5. Python 셀 변경: 선택된 상태에서 y\n",
    "6. Markdown 셀 변경: 선택된 상태에서 m\n",
    "\n",
    "[마크다운 문법](https://gist.github.com/ihoneymon/652be052a0727ad59601)은 해당 스터디에서 직접적으로 다루지는 않지만, 30분 정도면 익숙하게 사용하는 것이 가능해짐"
   ]
  },
  {
   "cell_type": "markdown",
   "metadata": {},
   "source": [
    "### 2. 변수와 자료형\n",
    "#### 2-1. 출력하기\n",
    "```python\n",
    "print(\"hello world!\")\n",
    "```"
   ]
  },
  {
   "cell_type": "code",
   "execution_count": 5,
   "metadata": {},
   "outputs": [
    {
     "name": "stdout",
     "output_type": "stream",
     "text": [
      "hello world!\n"
     ]
    }
   ],
   "source": [
    "print(\"hello world!\")"
   ]
  },
  {
   "cell_type": "markdown",
   "metadata": {},
   "source": [
    "파이썬의 경우 `\"`와 `'`를 구분하지 않음"
   ]
  },
  {
   "cell_type": "code",
   "execution_count": 6,
   "metadata": {},
   "outputs": [
    {
     "name": "stdout",
     "output_type": "stream",
     "text": [
      "hello world!\n"
     ]
    }
   ],
   "source": [
    "print('hello world!')"
   ]
  },
  {
   "cell_type": "markdown",
   "metadata": {},
   "source": [
    "##### \"나 ' 출력하기"
   ]
  },
  {
   "cell_type": "code",
   "execution_count": 7,
   "metadata": {},
   "outputs": [
    {
     "name": "stdout",
     "output_type": "stream",
     "text": [
      "큰 따옴표로 깜싼 문장에서는 작은 따옴표(')를 출력 할 수 있음\n"
     ]
    }
   ],
   "source": [
    "print(\"큰 따옴표로 감싼 문장에서는 작은 따옴표(')를 출력 할 수 있음\")"
   ]
  },
  {
   "cell_type": "code",
   "execution_count": 8,
   "metadata": {},
   "outputs": [
    {
     "name": "stdout",
     "output_type": "stream",
     "text": [
      "작은 따옴표로 감싼 문장에서는 큰 따옴표(\")를 출력 할 수 있음\n"
     ]
    }
   ],
   "source": [
    "print('작은 따옴표로 감싼 문장에서는 큰 따옴표(\")를 출력 할 수 있음')"
   ]
  },
  {
   "cell_type": "markdown",
   "metadata": {},
   "source": [
    "`이스케이프 시퀀스`라고 불리는 제어 시퀀스를 사용해 출력할 수도 있음"
   ]
  },
  {
   "cell_type": "code",
   "execution_count": 9,
   "metadata": {},
   "outputs": [
    {
     "name": "stdout",
     "output_type": "stream",
     "text": [
      "\"\n"
     ]
    }
   ],
   "source": [
    "print(\"\\\"\")"
   ]
  },
  {
   "cell_type": "code",
   "execution_count": 10,
   "metadata": {},
   "outputs": [
    {
     "name": "stdout",
     "output_type": "stream",
     "text": [
      "'\n"
     ]
    }
   ],
   "source": [
    "print(\"\\'\")"
   ]
  },
  {
   "cell_type": "markdown",
   "metadata": {},
   "source": [
    "##### [직접 해보기] Hello World가 3번 출력되게 만들기"
   ]
  },
  {
   "cell_type": "code",
   "execution_count": null,
   "metadata": {},
   "outputs": [],
   "source": []
  },
  {
   "cell_type": "markdown",
   "metadata": {},
   "source": [
    "#### 2-2. 변수(variable)\n",
    "변수는 어떤 값을 다음에 참조하기 쉽게 이름을 붙여주는 상자라고 이해하면 됨  \n",
    "\n",
    "파이썬에서는 변수의 이름을 짓는 권장 사항과 규칙 등이 존재함 [(참고)](https://jvvp.tistory.com/969)"
   ]
  },
  {
   "cell_type": "code",
   "execution_count": 16,
   "metadata": {},
   "outputs": [
    {
     "name": "stdout",
     "output_type": "stream",
     "text": [
      "멋쟁이 사자처럼 AI School 7 기 김채현 입니다!\n"
     ]
    }
   ],
   "source": [
    "print(\"멋쟁이 사자처럼 AI School 7 기 김채현 입니다!\")"
   ]
  },
  {
   "cell_type": "code",
   "execution_count": 14,
   "metadata": {},
   "outputs": [
    {
     "name": "stdout",
     "output_type": "stream",
     "text": [
      "멋쟁이 사자처럼 AI School 7 기 김채현 입니다!\n"
     ]
    }
   ],
   "source": [
    "print(\"멋쟁이\", \"사자처럼\", \"AI\", \"School\", 7, \"기\", \"김채현\", \"입니다!\")"
   ]
  },
  {
   "cell_type": "code",
   "execution_count": 17,
   "metadata": {},
   "outputs": [
    {
     "name": "stdout",
     "output_type": "stream",
     "text": [
      "멋쟁이 사자처럼 AI School 7 기 김채현 입니다!\n"
     ]
    }
   ],
   "source": [
    "name = \"김채현\"\n",
    "rank = 7\n",
    "\n",
    "print(\"멋쟁이 사자처럼 AI School\", rank, \"기\", name, \"입니다!\")"
   ]
  },
  {
   "cell_type": "markdown",
   "metadata": {},
   "source": [
    "##### 문자열과 변수를 함꼐 출력하는 방법\n",
    "- f-string (추천)\n",
    "- % 이용\n",
    "- `format` 함수 이용"
   ]
  },
  {
   "cell_type": "code",
   "execution_count": 18,
   "metadata": {},
   "outputs": [
    {
     "name": "stdout",
     "output_type": "stream",
     "text": [
      "멋쟁이 사자처럼 AI Shcool 7 기 김채현 입니다!\n"
     ]
    }
   ],
   "source": [
    "print(f\"멋쟁이 사자처럼 AI Shcool {rank} 기 {name} 입니다!\")"
   ]
  },
  {
   "cell_type": "code",
   "execution_count": 20,
   "metadata": {},
   "outputs": [
    {
     "name": "stdout",
     "output_type": "stream",
     "text": [
      "멋쟁이 사자처럼 AI School 7 기 김채현 입니다!\n"
     ]
    }
   ],
   "source": [
    "print(\"멋쟁이 사자처럼 AI School %d 기 %s 입니다!\" %(rank, name))"
   ]
  },
  {
   "cell_type": "code",
   "execution_count": 21,
   "metadata": {},
   "outputs": [
    {
     "name": "stdout",
     "output_type": "stream",
     "text": [
      "멋쟁이 사자처럼 AI School 7 기 김채현 입니다!\n"
     ]
    }
   ],
   "source": [
    "print(\"멋쟁이 사자처럼 AI School {} 기 {} 입니다!\".format(rank, name))"
   ]
  },
  {
   "cell_type": "markdown",
   "metadata": {},
   "source": [
    "##### [직접해보기] 자신을 소개하는 문장을 작성해 변수에 담고 출력해보기"
   ]
  },
  {
   "cell_type": "code",
   "execution_count": null,
   "metadata": {},
   "outputs": [],
   "source": []
  },
  {
   "cell_type": "markdown",
   "metadata": {},
   "source": [
    "#### 2-3. 주석(commnet)\n",
    "프로그래밍 언어에 사람이 사용하는 말을 덧붙여 코드를 설명하기 위한 목적으로 주로 사용"
   ]
  },
  {
   "cell_type": "code",
   "execution_count": 22,
   "metadata": {},
   "outputs": [
    {
     "name": "stdout",
     "output_type": "stream",
     "text": [
      "주석은 실행되지 않습니다\n"
     ]
    }
   ],
   "source": [
    "# 해당 부분은 주석으로 실행되지 않습니다\n",
    "print(\"주석은 실행되지 않습니다\")"
   ]
  },
  {
   "cell_type": "code",
   "execution_count": 23,
   "metadata": {},
   "outputs": [
    {
     "name": "stdout",
     "output_type": "stream",
     "text": [
      "주석은 여러줄이 될 수도 있습니다\n"
     ]
    }
   ],
   "source": [
    "\"\"\"\n",
    "여러 줄의 주석은 따옴표 3개로 감싸 작성합니다\n",
    "큰 따옴표나 작은 따옴표 모두 사용 가능합니다\n",
    "이런 식의 주석은 주로, 후에 배울 함수에 대한 설명을 적는 용도로 주로 사용합니다\n",
    "\"\"\"\n",
    "print(\"주석은 여러줄이 될 수도 있습니다\")"
   ]
  },
  {
   "cell_type": "code",
   "execution_count": 24,
   "metadata": {},
   "outputs": [
    {
     "name": "stdout",
     "output_type": "stream",
     "text": [
      "7 김채현\n"
     ]
    }
   ],
   "source": [
    "name = \"김채현\" # 이름을 저장하는 변수\n",
    "rank = 7 # 기수를 저장하는 변수\n",
    "\n",
    "print(rank, name)"
   ]
  },
  {
   "cell_type": "markdown",
   "metadata": {},
   "source": [
    "##### [직접 해보기] 아래 코드를 주석을 사용해 정상적으로 작동하도록 수정하기"
   ]
  },
  {
   "cell_type": "code",
   "execution_count": 25,
   "metadata": {},
   "outputs": [
    {
     "ename": "SyntaxError",
     "evalue": "invalid syntax (3221810677.py, line 3)",
     "output_type": "error",
     "traceback": [
      "\u001b[1;36m  Input \u001b[1;32mIn [25]\u001b[1;36m\u001b[0m\n\u001b[1;33m    반갑습니다!\u001b[0m\n\u001b[1;37m         ^\u001b[0m\n\u001b[1;31mSyntaxError\u001b[0m\u001b[1;31m:\u001b[0m invalid syntax\n"
     ]
    }
   ],
   "source": [
    "print(\"멋쟁이 사자처럼 AI School 7기\")\n",
    "\n",
    "반갑습니다!\n",
    "\n",
    "print(\"반갑습니다!\")"
   ]
  },
  {
   "cell_type": "markdown",
   "metadata": {},
   "source": [
    "#### 2-4. 숫자와 문자열 (number와 문자열)"
   ]
  },
  {
   "cell_type": "code",
   "execution_count": 27,
   "metadata": {},
   "outputs": [
    {
     "name": "stdout",
     "output_type": "stream",
     "text": [
      "AI Shcool은 이제 7기가 되었습니다!\n"
     ]
    }
   ],
   "source": [
    "my_name = \"AI Shcool\"\n",
    "my_age = 7\n",
    "print(f\"{my_name}은 이제 {my_age}기가 되었습니다!\")"
   ]
  },
  {
   "cell_type": "markdown",
   "metadata": {},
   "source": [
    "숫자와 문자열은 변수로, 다양한 연산이 가능합니다"
   ]
  },
  {
   "cell_type": "code",
   "execution_count": 28,
   "metadata": {},
   "outputs": [
    {
     "data": {
      "text/plain": [
       "81"
      ]
     },
     "execution_count": 28,
     "metadata": {},
     "output_type": "execute_result"
    }
   ],
   "source": [
    "9*9"
   ]
  },
  {
   "cell_type": "code",
   "execution_count": 34,
   "metadata": {},
   "outputs": [
    {
     "data": {
      "text/plain": [
       "9.0"
      ]
     },
     "execution_count": 34,
     "metadata": {},
     "output_type": "execute_result"
    }
   ],
   "source": [
    "# 정수로 나눴지만, 실수 결과 (추후 설명)\n",
    "81/9"
   ]
  },
  {
   "cell_type": "code",
   "execution_count": 46,
   "metadata": {},
   "outputs": [
    {
     "data": {
      "text/plain": [
       "3.75"
      ]
     },
     "execution_count": 46,
     "metadata": {},
     "output_type": "execute_result"
    }
   ],
   "source": [
    "15/4"
   ]
  },
  {
   "cell_type": "code",
   "execution_count": 47,
   "metadata": {},
   "outputs": [
    {
     "data": {
      "text/plain": [
       "3"
      ]
     },
     "execution_count": 47,
     "metadata": {},
     "output_type": "execute_result"
    }
   ],
   "source": [
    "15//4"
   ]
  },
  {
   "cell_type": "code",
   "execution_count": 48,
   "metadata": {},
   "outputs": [
    {
     "data": {
      "text/plain": [
       "3"
      ]
     },
     "execution_count": 48,
     "metadata": {},
     "output_type": "execute_result"
    }
   ],
   "source": [
    "15%4"
   ]
  },
  {
   "cell_type": "code",
   "execution_count": 31,
   "metadata": {},
   "outputs": [
    {
     "data": {
      "text/plain": [
       "1024"
      ]
     },
     "execution_count": 31,
     "metadata": {},
     "output_type": "execute_result"
    }
   ],
   "source": [
    "2**10"
   ]
  },
  {
   "cell_type": "markdown",
   "metadata": {},
   "source": [
    "연산자를 이용해 숫자와 문자열을 연산하는것도 가능함"
   ]
  },
  {
   "cell_type": "code",
   "execution_count": 37,
   "metadata": {},
   "outputs": [],
   "source": [
    "s = \"문자열\"\n",
    "num = 5"
   ]
  },
  {
   "cell_type": "code",
   "execution_count": 39,
   "metadata": {},
   "outputs": [
    {
     "data": {
      "text/plain": [
       "'문자열문자열문자열문자열문자열'"
      ]
     },
     "execution_count": 39,
     "metadata": {},
     "output_type": "execute_result"
    }
   ],
   "source": [
    "num*s"
   ]
  },
  {
   "cell_type": "code",
   "execution_count": 40,
   "metadata": {},
   "outputs": [
    {
     "name": "stdout",
     "output_type": "stream",
     "text": [
      "100200\n",
      "300\n"
     ]
    }
   ],
   "source": [
    "text = \"100\" + \"200\"\n",
    "num = 100 + 200\n",
    "\n",
    "print(text)\n",
    "print(num)"
   ]
  },
  {
   "cell_type": "markdown",
   "metadata": {},
   "source": [
    "##### [직접 해보기] 기본적인 연산 해보기"
   ]
  },
  {
   "cell_type": "code",
   "execution_count": null,
   "metadata": {},
   "outputs": [],
   "source": [
    "num1, num2 = 33, 3\n",
    "\n",
    "# 합\n",
    "sum = ____\n",
    "# 차\n",
    "dif = ____\n",
    "# 곱\n",
    "mul = ____\n",
    "# 나누기\n",
    "div = ____\n",
    "# 나머지\n",
    "remain = ____\n",
    "# 제곱\n",
    "power = ____"
   ]
  },
  {
   "cell_type": "markdown",
   "metadata": {},
   "source": [
    "#### 2-5. 자료형과 자료구조\n",
    "자료형의 경우, 정규 수업 초반부에서 다루는 `Pandas` 라이브러리를 이용한 EDA에서 자주 접하게 됨\n",
    "##### 정수와 실수"
   ]
  },
  {
   "cell_type": "code",
   "execution_count": 41,
   "metadata": {},
   "outputs": [
    {
     "name": "stdout",
     "output_type": "stream",
     "text": [
      "5\n",
      "5.0\n",
      "5.0\n"
     ]
    }
   ],
   "source": [
    "num1 = 5\n",
    "num2 = 5.0\n",
    "num3 = 5.000\n",
    "\n",
    "print(num1)\n",
    "print(num2)\n",
    "print(num3)"
   ]
  },
  {
   "cell_type": "markdown",
   "metadata": {},
   "source": [
    "어떤 수는 소수점이 있고 어떤 수는 소수점이 없음  \n",
    "-> 파이썬에의 수에는 두 종류가 있기 때문\n",
    "\n",
    "1. 정수만 표현할 수 있는 수 -> 정수(`int`)\n",
    "2. 소수점 이하도 함께 표현할 수 있는 수 -> 실수(`float`)"
   ]
  },
  {
   "cell_type": "code",
   "execution_count": 42,
   "metadata": {},
   "outputs": [
    {
     "name": "stdout",
     "output_type": "stream",
     "text": [
      "정수만 다루는 경우: 5\n",
      "실수와 정수를 함께 다루는 경우: 5.0\n"
     ]
    }
   ],
   "source": [
    "print(f\"정수만 다루는 경우: {5*1}\")\n",
    "print(f\"실수와 정수를 함께 다루는 경우: {5*1.0}\")"
   ]
  },
  {
   "cell_type": "code",
   "execution_count": 45,
   "metadata": {},
   "outputs": [
    {
     "name": "stdout",
     "output_type": "stream",
     "text": [
      "1.2\n",
      "5.0\n",
      "5.0\n"
     ]
    }
   ],
   "source": [
    "print(6/5)\n",
    "print(5/1)\n",
    "print(5/1.0)"
   ]
  },
  {
   "cell_type": "markdown",
   "metadata": {},
   "source": [
    "나눗셈의 경우 예외임  \n",
    "\n",
    "자료형의 정수와 실수는 [부동 소수점](https://greatzzo.tistory.com/56) 개념이 들어감  \n",
    "-> 해당 스터디에서는 다루지 않음\n",
    "\n",
    "##### 정수형을 실수형으로, 실수형을 정수형으로"
   ]
  },
  {
   "cell_type": "code",
   "execution_count": 49,
   "metadata": {},
   "outputs": [
    {
     "name": "stdout",
     "output_type": "stream",
     "text": [
      "1은 <class 'int'> 타입 입니다\n"
     ]
    }
   ],
   "source": [
    "num = 1\n",
    "\n",
    "print(f\"{num}은 {type(num)} 타입 입니다\")"
   ]
  },
  {
   "cell_type": "code",
   "execution_count": 50,
   "metadata": {},
   "outputs": [
    {
     "name": "stdout",
     "output_type": "stream",
     "text": [
      "1.0은 <class 'float'> 타입 입니다\n"
     ]
    }
   ],
   "source": [
    "num = 1.0\n",
    "\n",
    "print(f\"{num}은 {type(num)} 타입 입니다\")"
   ]
  },
  {
   "cell_type": "code",
   "execution_count": 51,
   "metadata": {},
   "outputs": [
    {
     "name": "stdout",
     "output_type": "stream",
     "text": [
      "5은 <class 'int'> 타입 입니다\n",
      "float 함수를 이용하면, 정수형을 실수형으로 변경 할 수 있습니다. 5.0: <class 'float'>\n"
     ]
    }
   ],
   "source": [
    "num = 5\n",
    "print(f\"{num}은 {type(num)} 타입 입니다\")\n",
    "num = float(num)\n",
    "print(f\"float 함수를 이용하면, 정수형을 실수형으로 변경 할 수 있습니다. {num}: {type(num)}\")"
   ]
  },
  {
   "cell_type": "code",
   "execution_count": 54,
   "metadata": {},
   "outputs": [
    {
     "name": "stdout",
     "output_type": "stream",
     "text": [
      "5.4은 <class 'float'> 타입 입니다\n",
      "int 함수를 이용하면, 실수형을 정수형으로 변경 할 수 있습니다. 5: <class 'int'>\n"
     ]
    }
   ],
   "source": [
    "num = 5.4\n",
    "print(f\"{num}은 {type(num)} 타입 입니다\")\n",
    "num = int(num)\n",
    "print(f\"int 함수를 이용하면, 실수형을 정수형으로 변경 할 수 있습니다. {num}: {type(num)}\")"
   ]
  },
  {
   "cell_type": "code",
   "execution_count": 55,
   "metadata": {},
   "outputs": [
    {
     "name": "stdout",
     "output_type": "stream",
     "text": [
      "실수형을 정수형으로 변환하면 소수점 자리는 버려집니다. 1, 5\n"
     ]
    }
   ],
   "source": [
    "num1 = int(1.234)\n",
    "num2 = int(5.678)\n",
    "\n",
    "print(f\"실수형을 정수형으로 변환하면 소수점 자리는 버려집니다. {num1}, {num2}\")"
   ]
  },
  {
   "cell_type": "code",
   "execution_count": 56,
   "metadata": {},
   "outputs": [
    {
     "name": "stdout",
     "output_type": "stream",
     "text": [
      "1: <class 'int'>\n",
      "5.0: <class 'float'>\n",
      "5.0: <class 'float'>\n"
     ]
    }
   ],
   "source": [
    "num1 = 1\n",
    "num2 = 5.0\n",
    "\n",
    "print(f\"{num1}: {type(num1)}\")\n",
    "print(f\"{num2}: {type(num2)}\")\n",
    "print(f\"{num1*num2}: {type(num1*num2)}\")"
   ]
  },
  {
   "cell_type": "markdown",
   "metadata": {},
   "source": [
    "##### 사용자 입력 받기\n",
    "사용자 입력을 받아 그대로 출력하기"
   ]
  },
  {
   "cell_type": "code",
   "execution_count": 57,
   "metadata": {},
   "outputs": [
    {
     "name": "stdout",
     "output_type": "stream",
     "text": [
      "안녕하세요\n"
     ]
    }
   ],
   "source": [
    "user = input()\n",
    "\n",
    "print(user)"
   ]
  },
  {
   "cell_type": "code",
   "execution_count": 58,
   "metadata": {},
   "outputs": [
    {
     "name": "stdout",
     "output_type": "stream",
     "text": [
      "문구를 보셨나요?\n"
     ]
    }
   ],
   "source": [
    "user = input(\"이곳에 입력 받을 때의 문구를 추가할 수 있습니다\")\n",
    "\n",
    "print(user)"
   ]
  },
  {
   "cell_type": "code",
   "execution_count": 60,
   "metadata": {},
   "outputs": [
    {
     "name": "stdout",
     "output_type": "stream",
     "text": [
      "1 <class 'str'> 2 <class 'str'>\n"
     ]
    }
   ],
   "source": [
    "# split을 이용해 여러개 입력을 받아 변수에 저장 가능\n",
    "num1, num2 = input().split()\n",
    "\n",
    "print(num1, type(num1), num2, type(num2))"
   ]
  },
  {
   "cell_type": "code",
   "execution_count": 61,
   "metadata": {},
   "outputs": [
    {
     "name": "stdout",
     "output_type": "stream",
     "text": [
      "1 <class 'int'> 2 <class 'int'>\n"
     ]
    }
   ],
   "source": [
    "# map과 split을 이용하면 여러 개 입력에 대해 자료형을 지정할 수 있습니다\n",
    "# 정수형으로 입력 받는 경우\n",
    "num1, num2 = map(int, input().split())\n",
    "\n",
    "print(num1, type(num1), num2, type(num2))"
   ]
  },
  {
   "cell_type": "markdown",
   "metadata": {},
   "source": [
    "##### [직접 해보기] 나이, 키와 이름 입력 받기\n",
    "파이썬은 `input` 함수를 이용해 입력을 받고 기본적으로 문자열로 입력 받습니다.  \n",
    "나이, 키와 이름을 입력 받아, 나이는 정수형으로, 키는 실수형으로 변환해 타입과 함께 출력해봅니다."
   ]
  },
  {
   "cell_type": "code",
   "execution_count": null,
   "metadata": {},
   "outputs": [],
   "source": []
  },
  {
   "cell_type": "markdown",
   "metadata": {},
   "source": [
    "#### 2-6. 리스트 (list)\n",
    "리스트는 다른 변수를 담을 수 있는 변수  \n",
    "리스트에는 서로 다른 자료형들을 담을 수도, 리스트 안에 리스트를 담을 수도 있음"
   ]
  },
  {
   "cell_type": "code",
   "execution_count": 63,
   "metadata": {},
   "outputs": [
    {
     "data": {
      "text/plain": [
       "['가위', '바위', '보']"
      ]
     },
     "execution_count": 63,
     "metadata": {},
     "output_type": "execute_result"
    }
   ],
   "source": [
    "l = [\"가위\", \"바위\", \"보\"]\n",
    "\n",
    "l"
   ]
  },
  {
   "cell_type": "markdown",
   "metadata": {},
   "source": [
    "리스트 자료형은 여러 개의 값을 순서대로 담아 두고 꺼내 쓸 수 있는 자료형  \n",
    "-> 리스트 하나에는 값이 여러 개 들어 있으므로, 출력할 때도 여러 개의 값이 한 번에 나옴"
   ]
  },
  {
   "cell_type": "code",
   "execution_count": 65,
   "metadata": {},
   "outputs": [
    {
     "data": {
      "text/plain": [
       "'가위'"
      ]
     },
     "execution_count": 65,
     "metadata": {},
     "output_type": "execute_result"
    }
   ],
   "source": [
    "# 인덱싱\n",
    "l[0]"
   ]
  },
  {
   "cell_type": "code",
   "execution_count": 66,
   "metadata": {},
   "outputs": [
    {
     "data": {
      "text/plain": [
       "'보'"
      ]
     },
     "execution_count": 66,
     "metadata": {},
     "output_type": "execute_result"
    }
   ],
   "source": [
    "l[2]"
   ]
  },
  {
   "cell_type": "code",
   "execution_count": 67,
   "metadata": {},
   "outputs": [
    {
     "data": {
      "text/plain": [
       "'보'"
      ]
     },
     "execution_count": 67,
     "metadata": {},
     "output_type": "execute_result"
    }
   ],
   "source": [
    "l[-1]"
   ]
  },
  {
   "cell_type": "markdown",
   "metadata": {},
   "source": [
    "파이썬에서 인덱스는 0부터 시작하며, -1의 경우 가장 마지막 인덱스를 의미합니다"
   ]
  },
  {
   "cell_type": "code",
   "execution_count": 68,
   "metadata": {},
   "outputs": [
    {
     "data": {
      "text/plain": [
       "['바위', '바위', '보']"
      ]
     },
     "execution_count": 68,
     "metadata": {},
     "output_type": "execute_result"
    }
   ],
   "source": [
    "# 인덱스로 접근해 원소를 변경할 수 있음\n",
    "l[0] = \"바위\"\n",
    "\n",
    "l"
   ]
  },
  {
   "cell_type": "markdown",
   "metadata": {},
   "source": [
    "##### [직접 해보기] 무지개 색을 출력하는 코드 작성하기"
   ]
  },
  {
   "cell_type": "code",
   "execution_count": null,
   "metadata": {},
   "outputs": [],
   "source": [
    "rainbow = [\"빨강\", \"주황\", \"노랑\", \"초록\", \"파랑\", \"남색\", \"보라\"]\n",
    "\n",
    "first_color = ____\n",
    "\n",
    "print(f\"무지개의 첫 번째 색은 {first_color} 입니다.\")"
   ]
  },
  {
   "cell_type": "code",
   "execution_count": null,
   "metadata": {},
   "outputs": [],
   "source": [
    "rainbow = [\"빨강\", \"주황\", \"노랑\", \"초록\", \"파랑\", \"남색\", \"보라\"]\n",
    "\n",
    "last_color = ____\n",
    "\n",
    "print(f\"무지개의 마지막 색은 {last_color} 입니다.\")"
   ]
  },
  {
   "cell_type": "markdown",
   "metadata": {},
   "source": [
    "##### 리스트 수정"
   ]
  },
  {
   "cell_type": "code",
   "execution_count": 69,
   "metadata": {},
   "outputs": [
    {
     "name": "stdout",
     "output_type": "stream",
     "text": [
      "[1, 2, 3, 4]\n",
      "[1, 2, 3, 4, 5]\n"
     ]
    }
   ],
   "source": [
    "# 새로운 원소 추가하기\n",
    "l = [1, 2, 3, 4]\n",
    "print(l)\n",
    "l.append(5)\n",
    "print(l)"
   ]
  },
  {
   "cell_type": "code",
   "execution_count": 73,
   "metadata": {},
   "outputs": [
    {
     "name": "stdout",
     "output_type": "stream",
     "text": [
      "[1, 2, 3, 4, 5, 6]\n"
     ]
    }
   ],
   "source": [
    "# 리스트 2개 더하기\n",
    "list1 = [1, 2, 3]\n",
    "list2 = [4, 5, 6]\n",
    "\n",
    "list3 = list1 + list2\n",
    "print(list3)"
   ]
  },
  {
   "cell_type": "code",
   "execution_count": 74,
   "metadata": {},
   "outputs": [
    {
     "name": "stdout",
     "output_type": "stream",
     "text": [
      "[1, 2, 3, [4, 5, 6]]\n"
     ]
    }
   ],
   "source": [
    "list1.append(list2)\n",
    "\n",
    "print(list1)"
   ]
  },
  {
   "cell_type": "markdown",
   "metadata": {},
   "source": [
    "##### 리스트에 값이 있는지 확인하기"
   ]
  },
  {
   "cell_type": "code",
   "execution_count": 75,
   "metadata": {},
   "outputs": [
    {
     "data": {
      "text/plain": [
       "True"
      ]
     },
     "execution_count": 75,
     "metadata": {},
     "output_type": "execute_result"
    }
   ],
   "source": [
    "l = [1, 2, 3, 4, 5]\n",
    "\n",
    "5 in l"
   ]
  },
  {
   "cell_type": "code",
   "execution_count": 76,
   "metadata": {},
   "outputs": [
    {
     "data": {
      "text/plain": [
       "False"
      ]
     },
     "execution_count": 76,
     "metadata": {},
     "output_type": "execute_result"
    }
   ],
   "source": [
    "6 in l"
   ]
  },
  {
   "cell_type": "markdown",
   "metadata": {},
   "source": [
    "`True`와 `False`는 `bool` 타입의 자료형으로 추후 배울 조건문이나 반복문에서 유용하게 사용할 수 있습니다"
   ]
  },
  {
   "cell_type": "markdown",
   "metadata": {},
   "source": [
    "##### 특정 값 삭제하기\n",
    "- del: 특정 위치의 원소 지우기\n",
    "- remove: 특정 값 지우기"
   ]
  },
  {
   "cell_type": "code",
   "execution_count": 77,
   "metadata": {},
   "outputs": [
    {
     "name": "stdout",
     "output_type": "stream",
     "text": [
      "[1, 2, 3, 4, 5]\n"
     ]
    }
   ],
   "source": [
    "l = [1, 2, 3, 4, 5]\n",
    "print(l)"
   ]
  },
  {
   "cell_type": "code",
   "execution_count": 78,
   "metadata": {},
   "outputs": [
    {
     "data": {
      "text/plain": [
       "[2, 3, 4, 5]"
      ]
     },
     "execution_count": 78,
     "metadata": {},
     "output_type": "execute_result"
    }
   ],
   "source": [
    "# 첫번째 원소 지우기\n",
    "del l[0]\n",
    "l"
   ]
  },
  {
   "cell_type": "code",
   "execution_count": 79,
   "metadata": {},
   "outputs": [
    {
     "data": {
      "text/plain": [
       "[3, 4, 5]"
      ]
     },
     "execution_count": 79,
     "metadata": {},
     "output_type": "execute_result"
    }
   ],
   "source": [
    "# 2 지우기\n",
    "l.remove(2)\n",
    "l"
   ]
  },
  {
   "cell_type": "markdown",
   "metadata": {},
   "source": [
    "##### [직접 해보기] 끝에 원소 4를 추가하기"
   ]
  },
  {
   "cell_type": "code",
   "execution_count": null,
   "metadata": {},
   "outputs": [],
   "source": [
    "l = [1, 2, 3]\n",
    "_______\n",
    "\n",
    "print(l)"
   ]
  },
  {
   "cell_type": "markdown",
   "metadata": {},
   "source": [
    "##### [직접 해보기] 2를 지우고 [1, 3] "
   ]
  },
  {
   "cell_type": "code",
   "execution_count": null,
   "metadata": {},
   "outputs": [],
   "source": [
    "l = [1, 2, 3]\n",
    "\n",
    "________\n",
    "\n",
    "print(l)"
   ]
  },
  {
   "cell_type": "markdown",
   "metadata": {},
   "source": [
    "#### 2-7. 딕셔너리와 튜플\n",
    "##### 딕셔너리 (dictionary)\n",
    "리스트와 마찬가지로 다른 값을 여러개 담을 수 있음\n",
    "\n",
    "```python\n",
    "{키 : 값} 형식을 갖고 있음\n",
    "```"
   ]
  },
  {
   "cell_type": "code",
   "execution_count": 80,
   "metadata": {},
   "outputs": [
    {
     "name": "stdout",
     "output_type": "stream",
     "text": [
      "{'가위': '바위', '바위': '가위', '보': '바위'}\n"
     ]
    }
   ],
   "source": [
    "wintable = {\n",
    "    \"가위\" : \"바위\",\n",
    "    \"바위\" : \"가위\",\n",
    "    \"보\" : \"바위\"\n",
    "}\n",
    "\n",
    "print(wintable)"
   ]
  },
  {
   "cell_type": "code",
   "execution_count": 81,
   "metadata": {},
   "outputs": [
    {
     "data": {
      "text/plain": [
       "'바위'"
      ]
     },
     "execution_count": 81,
     "metadata": {},
     "output_type": "execute_result"
    }
   ],
   "source": [
    "wintable[\"가위\"]"
   ]
  },
  {
   "cell_type": "code",
   "execution_count": 83,
   "metadata": {},
   "outputs": [
    {
     "name": "stdout",
     "output_type": "stream",
     "text": [
      "{'name': '김채현', 'sex': 'Male', 'age': 30}\n"
     ]
    }
   ],
   "source": [
    "about_me = {\n",
    "    \"name\" : \"김채현\",\n",
    "    \"sex\" : \"Male\",\n",
    "    \"age\" : 30\n",
    "}\n",
    "\n",
    "print(about_me)"
   ]
  },
  {
   "cell_type": "code",
   "execution_count": 84,
   "metadata": {},
   "outputs": [
    {
     "data": {
      "text/plain": [
       "30"
      ]
     },
     "execution_count": 84,
     "metadata": {},
     "output_type": "execute_result"
    }
   ],
   "source": [
    "about_me[\"age\"]"
   ]
  },
  {
   "cell_type": "markdown",
   "metadata": {},
   "source": [
    "##### [직접 해보기] 월별 영단어 딕셔너리 만들기"
   ]
  },
  {
   "cell_type": "code",
   "execution_count": null,
   "metadata": {},
   "outputs": [],
   "source": [
    "month = {\n",
    "    \"1월\" : \"january\",\n",
    "    # ...\n",
    "}"
   ]
  },
  {
   "cell_type": "markdown",
   "metadata": {},
   "source": [
    "##### 딕셔너리 수정\n",
    "새로운 키와 값을 지정해 새로운 값을 추가할 수 있음"
   ]
  },
  {
   "cell_type": "code",
   "execution_count": 85,
   "metadata": {},
   "outputs": [
    {
     "name": "stdout",
     "output_type": "stream",
     "text": [
      "{1: '첫번째'}\n"
     ]
    }
   ],
   "source": [
    "d = {1: \"첫번째\"}\n",
    "\n",
    "print(d)"
   ]
  },
  {
   "cell_type": "code",
   "execution_count": 86,
   "metadata": {},
   "outputs": [
    {
     "name": "stdout",
     "output_type": "stream",
     "text": [
      "{1: '첫번째', 2: '두번째'}\n"
     ]
    }
   ],
   "source": [
    "d[2] = \"두번째\"\n",
    "\n",
    "print(d)"
   ]
  },
  {
   "cell_type": "code",
   "execution_count": 87,
   "metadata": {},
   "outputs": [
    {
     "name": "stdout",
     "output_type": "stream",
     "text": [
      "{1: '첫번째', 2: '두번째', '세번째': 3}\n"
     ]
    }
   ],
   "source": [
    "d[\"세번째\"] = 3\n",
    "\n",
    "print(d)"
   ]
  },
  {
   "cell_type": "markdown",
   "metadata": {},
   "source": [
    "del 키워드를 이용해 특정 키의 값을 지울 수 있음"
   ]
  },
  {
   "cell_type": "code",
   "execution_count": 88,
   "metadata": {},
   "outputs": [
    {
     "name": "stdout",
     "output_type": "stream",
     "text": [
      "{1: '첫번째', 2: '두번째'}\n"
     ]
    }
   ],
   "source": [
    "del d[\"세번째\"]\n",
    "\n",
    "print(d)"
   ]
  },
  {
   "cell_type": "markdown",
   "metadata": {},
   "source": [
    "##### 튜플(tuple)\n",
    "리스트와 유사하나 원소의 수정이 불가능"
   ]
  },
  {
   "cell_type": "code",
   "execution_count": 89,
   "metadata": {},
   "outputs": [
    {
     "name": "stdout",
     "output_type": "stream",
     "text": [
      "[1, 4, 3]\n"
     ]
    }
   ],
   "source": [
    "list1 = [1, 2, 3]\n",
    "# 인덱스 1(2)의 값을 4로 변경\n",
    "list1[1] = 4\n",
    "\n",
    "print(list1)"
   ]
  },
  {
   "cell_type": "code",
   "execution_count": 90,
   "metadata": {},
   "outputs": [
    {
     "name": "stdout",
     "output_type": "stream",
     "text": [
      "(1, 2, 3)\n"
     ]
    }
   ],
   "source": [
    "# 튜플은 수정이 불가능 함\n",
    "t = (1, 2, 3)\n",
    "print(t)"
   ]
  },
  {
   "cell_type": "code",
   "execution_count": 92,
   "metadata": {},
   "outputs": [
    {
     "ename": "TypeError",
     "evalue": "'tuple' object does not support item assignment",
     "output_type": "error",
     "traceback": [
      "\u001b[1;31m---------------------------------------------------------------------------\u001b[0m",
      "\u001b[1;31mTypeError\u001b[0m                                 Traceback (most recent call last)",
      "\u001b[1;32mc:\\Users\\spec3\\OneDrive\\바탕 화면\\dev\\ai7_python_tutorial\\1. 변수와 자료형.ipynb 셀 110\u001b[0m in \u001b[0;36m<cell line: 1>\u001b[1;34m()\u001b[0m\n\u001b[1;32m----> <a href='vscode-notebook-cell:/c%3A/Users/spec3/OneDrive/%EB%B0%94%ED%83%95%20%ED%99%94%EB%A9%B4/dev/ai7_python_tutorial/1.%20%EB%B3%80%EC%88%98%EC%99%80%20%EC%9E%90%EB%A3%8C%ED%98%95.ipynb#Y315sZmlsZQ%3D%3D?line=0'>1</a>\u001b[0m t[\u001b[39m1\u001b[39m] \u001b[39m=\u001b[39m \u001b[39m4\u001b[39m\n",
      "\u001b[1;31mTypeError\u001b[0m: 'tuple' object does not support item assignment"
     ]
    }
   ],
   "source": [
    "t[1] = 4"
   ]
  }
 ],
 "metadata": {
  "kernelspec": {
   "display_name": "Python 3.9.12 64-bit",
   "language": "python",
   "name": "python3"
  },
  "language_info": {
   "codemirror_mode": {
    "name": "ipython",
    "version": 3
   },
   "file_extension": ".py",
   "mimetype": "text/x-python",
   "name": "python",
   "nbconvert_exporter": "python",
   "pygments_lexer": "ipython3",
   "version": "3.9.12"
  },
  "orig_nbformat": 4,
  "vscode": {
   "interpreter": {
    "hash": "ca7051211f7d0cb84f9a5276aced427e23f2f109de898d0e63a1c129a12d67d5"
   }
  }
 },
 "nbformat": 4,
 "nbformat_minor": 2
}
