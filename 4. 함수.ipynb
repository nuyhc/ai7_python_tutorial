{
 "cells": [
  {
   "cell_type": "markdown",
   "metadata": {},
   "source": [
    "# 멋쟁이 사자처럼 AI School 7기 \n",
    "## Part 4. 함수\n",
    "### 1. 함수\n",
    "함수는 코드 조각에 기능별로 이름을 붙인 것으로, 해당 기능을 쉽게 반복적으로 사용하는데 도움을 줌"
   ]
  },
  {
   "cell_type": "markdown",
   "metadata": {},
   "source": [
    "$ x = {-b \\pm \\sqrt{b^2 - 4ac} \\over 2a} $"
   ]
  },
  {
   "cell_type": "code",
   "execution_count": 1,
   "metadata": {},
   "outputs": [
    {
     "name": "stdout",
     "output_type": "stream",
     "text": [
      "해는 2.0과 -4.0\n"
     ]
    }
   ],
   "source": [
    "# 근의 공식\n",
    "# a * x^2 + b * x + c = 0, a!=0인 x에 대한 이차 방정식의 해 구하기\n",
    "a, b, c = 1, 2, -8\n",
    "\n",
    "r1 = (-b + (b ** 2 - 4 * a * c) ** 0.5) / (2 * a)\n",
    "r2 = (-b - (b ** 2 - 4 * a * c) ** 0.5) / (2 * a)\n",
    "\n",
    "print(f\"해는 {r1}과 {r2}\")"
   ]
  },
  {
   "cell_type": "code",
   "execution_count": 2,
   "metadata": {},
   "outputs": [
    {
     "name": "stdout",
     "output_type": "stream",
     "text": [
      "해는 2.0과 -4.0\n",
      "해는 4.0과 -1.0\n"
     ]
    }
   ],
   "source": [
    "a, b, c = 1, 2, -8\n",
    "\n",
    "r1 = (-b + (b ** 2 - 4 * a * c) ** 0.5) / (2 * a)\n",
    "r2 = (-b - (b ** 2 - 4 * a * c) ** 0.5) / (2 * a)\n",
    "\n",
    "print(f\"해는 {r1}과 {r2}\")\n",
    "\n",
    "a, b, c = 2, -6, -8\n",
    "\n",
    "r1 = (-b + (b ** 2 - 4 * a * c) ** 0.5) / (2 * a)\n",
    "r2 = (-b - (b ** 2 - 4 * a * c) ** 0.5) / (2 * a)\n",
    "\n",
    "print(f\"해는 {r1}과 {r2}\")"
   ]
  },
  {
   "cell_type": "markdown",
   "metadata": {},
   "source": [
    "`a, b, c`의 값이 바뀌는 경우 복잡한 수식을 다시 작성해야 함  \n",
    "-> 함수를 작성하는 경우 쉽게 해결 가능\n",
    "\n",
    "##### 함수 구조\n",
    "```python\n",
    "def 함수이름(인자):\n",
    "    내용\n",
    "```"
   ]
  },
  {
   "cell_type": "code",
   "execution_count": 3,
   "metadata": {},
   "outputs": [
    {
     "name": "stdout",
     "output_type": "stream",
     "text": [
      "해는 2.0과 -4.0\n",
      "해는 4.0과 -1.0\n"
     ]
    }
   ],
   "source": [
    "# 함수 선언\n",
    "def root():\n",
    "    r1 = (-b + (b ** 2 - 4 * a * c) ** 0.5) / (2 * a)\n",
    "    r2 = (-b - (b ** 2 - 4 * a * c) ** 0.5) / (2 * a)\n",
    "    print(f\"해는 {r1}과 {r2}\")\n",
    "\n",
    "a, b, c = 1, 2, -8 # 메모리에 a, b, c 값이 저장되어 있음\n",
    "root()\n",
    "\n",
    "a, b, c = 2, -6, -8 # 메모리에 a, b, c 값이 저장되어 있음\n",
    "root()"
   ]
  },
  {
   "cell_type": "markdown",
   "metadata": {},
   "source": [
    "복잡한 계산식을 한번만 작성해 반복적으로 사용이 가능함"
   ]
  },
  {
   "cell_type": "code",
   "execution_count": 4,
   "metadata": {},
   "outputs": [],
   "source": [
    "def print_hello():\n",
    "    print(\"hello!\")"
   ]
  },
  {
   "cell_type": "code",
   "execution_count": 5,
   "metadata": {},
   "outputs": [
    {
     "name": "stdout",
     "output_type": "stream",
     "text": [
      "hello!\n"
     ]
    }
   ],
   "source": [
    "print_hello()"
   ]
  },
  {
   "cell_type": "markdown",
   "metadata": {},
   "source": [
    "### 2. 매개변수\n",
    "매개변수(parameter)와 실행인자(argument)"
   ]
  },
  {
   "cell_type": "code",
   "execution_count": 6,
   "metadata": {},
   "outputs": [],
   "source": [
    "def root(a, b, c): # 매개변수\n",
    "    r1 = (-b + (b ** 2 - 4 * a * c) ** 0.5) / (2 * a)\n",
    "    r2 = (-b - (b ** 2 - 4 * a * c) ** 0.5) / (2 * a)\n",
    "    print(f\"해는 {r1}과 {r2}\")"
   ]
  },
  {
   "cell_type": "code",
   "execution_count": 7,
   "metadata": {},
   "outputs": [
    {
     "name": "stdout",
     "output_type": "stream",
     "text": [
      "해는 2.0과 -4.0\n"
     ]
    }
   ],
   "source": [
    "root(1, 2, -8) # 실행인자"
   ]
  },
  {
   "cell_type": "code",
   "execution_count": 8,
   "metadata": {},
   "outputs": [],
   "source": [
    "def root(a=1, b=2, c=-8): # default값을 지정할 수도 있음\n",
    "    r1 = (-b + (b ** 2 - 4 * a * c) ** 0.5) / (2 * a)\n",
    "    r2 = (-b - (b ** 2 - 4 * a * c) ** 0.5) / (2 * a)\n",
    "    print(f\"해는 {r1}과 {r2}\")"
   ]
  },
  {
   "cell_type": "code",
   "execution_count": 9,
   "metadata": {},
   "outputs": [
    {
     "name": "stdout",
     "output_type": "stream",
     "text": [
      "해는 2.0과 -4.0\n"
     ]
    }
   ],
   "source": [
    "root() # 매개변수의 디폴트값이 지정되어있는 경우 실행인자를 넣지 않아도 실행 됨"
   ]
  },
  {
   "cell_type": "markdown",
   "metadata": {},
   "source": [
    "### 3. 반환값\n",
    "함수는 특정 값을 반환할 수 있으며, 파이썬 함수의 경우 여러개의 값을 반환 할 수 있음"
   ]
  },
  {
   "cell_type": "code",
   "execution_count": 10,
   "metadata": {},
   "outputs": [],
   "source": [
    "# 2개의 값을 전달 받아 합을 반환해주는 함수\n",
    "def add_two(val1, val2):\n",
    "    result = val1 + val2\n",
    "    return result"
   ]
  },
  {
   "cell_type": "code",
   "execution_count": 11,
   "metadata": {},
   "outputs": [
    {
     "data": {
      "text/plain": [
       "15"
      ]
     },
     "execution_count": 11,
     "metadata": {},
     "output_type": "execute_result"
    }
   ],
   "source": [
    "add_two(10, 5)"
   ]
  },
  {
   "cell_type": "code",
   "execution_count": 12,
   "metadata": {},
   "outputs": [
    {
     "name": "stdout",
     "output_type": "stream",
     "text": [
      "25\n"
     ]
    }
   ],
   "source": [
    "r = add_two(20, 5)\n",
    "print(r)"
   ]
  },
  {
   "cell_type": "code",
   "execution_count": 13,
   "metadata": {},
   "outputs": [],
   "source": [
    "# 입력 받은 수에 10을 더하고, 원래 값과 10이 더해진 값을 반환하는 함수\n",
    "def add10(num):\n",
    "    return num, num+10"
   ]
  },
  {
   "cell_type": "code",
   "execution_count": 14,
   "metadata": {},
   "outputs": [
    {
     "data": {
      "text/plain": [
       "(5, 15)"
      ]
     },
     "execution_count": 14,
     "metadata": {},
     "output_type": "execute_result"
    }
   ],
   "source": [
    "add10(5)"
   ]
  },
  {
   "cell_type": "code",
   "execution_count": 15,
   "metadata": {},
   "outputs": [
    {
     "name": "stdout",
     "output_type": "stream",
     "text": [
      "5 15\n"
     ]
    }
   ],
   "source": [
    "original, plus_10 = add10(5)\n",
    "\n",
    "print(original, plus_10)"
   ]
  }
 ],
 "metadata": {
  "kernelspec": {
   "display_name": "Python 3.9.12 64-bit",
   "language": "python",
   "name": "python3"
  },
  "language_info": {
   "codemirror_mode": {
    "name": "ipython",
    "version": 3
   },
   "file_extension": ".py",
   "mimetype": "text/x-python",
   "name": "python",
   "nbconvert_exporter": "python",
   "pygments_lexer": "ipython3",
   "version": "3.9.12"
  },
  "orig_nbformat": 4,
  "vscode": {
   "interpreter": {
    "hash": "ca7051211f7d0cb84f9a5276aced427e23f2f109de898d0e63a1c129a12d67d5"
   }
  }
 },
 "nbformat": 4,
 "nbformat_minor": 2
}
