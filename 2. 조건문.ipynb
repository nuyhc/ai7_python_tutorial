{
 "cells": [
  {
   "cell_type": "markdown",
   "metadata": {},
   "source": [
    "# 멋쟁이 사자처럼 AI School 7기 \n",
    "## Part 2. 조건문\n",
    "### 1. if문\n",
    "대부분의 프로그램은 사용자에게 선택을 요구하고, 선택에 따라 다른 동작을 보임  \n",
    "파이썬에서 이런 기능을하는 것이 `if 조건문`\n",
    "\n",
    "```python\n",
    "조건문 조건:\n",
    "    조건이 참이면 실행할 코드\n",
    "```"
   ]
  },
  {
   "cell_type": "code",
   "execution_count": 1,
   "metadata": {},
   "outputs": [
    {
     "name": "stdout",
     "output_type": "stream",
     "text": [
      "사람이 5명 보다 적은 3명 입니다!\n"
     ]
    }
   ],
   "source": [
    "people = 3\n",
    "\n",
    "if people < 5:\n",
    "    print(f\"사람이 5명 보다 적은 {people}명 입니다!\")"
   ]
  },
  {
   "cell_type": "markdown",
   "metadata": {},
   "source": [
    "### 2. 조건식\n",
    "조건문에 들어가는 조건식은 결국 참(`True`)과 거짓(`False`)로 판명 됨  \n",
    "조건식에는 익숙한 수학 연산이나 bool 연산이 주로 사용 됨\n",
    "\n",
    "#### bool 연산과 논리 연산\n",
    "[bool 연산 참고 | 파이썬 코딩 도장](https://dojang.io/mod/page/view.php?id=2192)\n"
   ]
  },
  {
   "cell_type": "code",
   "execution_count": 2,
   "metadata": {},
   "outputs": [
    {
     "data": {
      "text/plain": [
       "True"
      ]
     },
     "execution_count": 2,
     "metadata": {},
     "output_type": "execute_result"
    }
   ],
   "source": [
    "4 < 5"
   ]
  },
  {
   "cell_type": "code",
   "execution_count": 3,
   "metadata": {},
   "outputs": [
    {
     "data": {
      "text/plain": [
       "False"
      ]
     },
     "execution_count": 3,
     "metadata": {},
     "output_type": "execute_result"
    }
   ],
   "source": [
    "4 > 5"
   ]
  },
  {
   "cell_type": "code",
   "execution_count": 4,
   "metadata": {},
   "outputs": [
    {
     "data": {
      "text/plain": [
       "True"
      ]
     },
     "execution_count": 4,
     "metadata": {},
     "output_type": "execute_result"
    }
   ],
   "source": [
    "True and True"
   ]
  },
  {
   "cell_type": "code",
   "execution_count": 5,
   "metadata": {},
   "outputs": [
    {
     "data": {
      "text/plain": [
       "False"
      ]
     },
     "execution_count": 5,
     "metadata": {},
     "output_type": "execute_result"
    }
   ],
   "source": [
    "True and False"
   ]
  },
  {
   "cell_type": "code",
   "execution_count": 6,
   "metadata": {},
   "outputs": [
    {
     "data": {
      "text/plain": [
       "True"
      ]
     },
     "execution_count": 6,
     "metadata": {},
     "output_type": "execute_result"
    }
   ],
   "source": [
    "True or False"
   ]
  },
  {
   "cell_type": "markdown",
   "metadata": {},
   "source": [
    "#### [직접 해보기] 조건식 만들기\n",
    "`hour` 변수에 현재 시각을 저장해 두었고, 현재 시각이 12시보다 빠를 때만 print문이 동작하게 조건식 세우기"
   ]
  },
  {
   "cell_type": "code",
   "execution_count": null,
   "metadata": {},
   "outputs": [],
   "source": [
    "from datetime import datetime\n",
    "\n",
    "hour = datetime.now().hour\n",
    "\n",
    "if ____:\n",
    "    print(\"오후입니다!\")"
   ]
  },
  {
   "cell_type": "markdown",
   "metadata": {},
   "source": [
    "##### [직접 해보기] 어떤 수가 3의 배수인지 판별해보기"
   ]
  },
  {
   "cell_type": "code",
   "execution_count": null,
   "metadata": {},
   "outputs": [],
   "source": [
    "num = int(input())\n",
    "\n",
    "if _____:\n",
    "    print(f\"{num}은 3의 배수 입니다!\")"
   ]
  },
  {
   "cell_type": "markdown",
   "metadata": {},
   "source": [
    "### if-else 조건문\n",
    "`if 조건문`에서 조건이 맞지 않는 상황을 다루는 조건문"
   ]
  },
  {
   "cell_type": "code",
   "execution_count": null,
   "metadata": {},
   "outputs": [],
   "source": [
    "if True:\n",
    "    pass # 조건이 참인 경우 실행\n",
    "else:\n",
    "    pass # 조건이 거짓인 경우 실행"
   ]
  },
  {
   "cell_type": "markdown",
   "metadata": {},
   "source": [
    "조건이 여러개인 경우에는 `if-elif-else 조건문`을 사용함\n",
    "\n",
    "```python\n",
    "if cond1:\n",
    "    pass # 조건 1이 참인 경우 실행\n",
    "elif cond2:\n",
    "    pass # 조건 2가 참인 경우 실행\n",
    "else:\n",
    "    pass # 조건 1과 2가 모두 거짓인 경우 실행\n",
    "```"
   ]
  },
  {
   "cell_type": "code",
   "execution_count": 10,
   "metadata": {},
   "outputs": [
    {
     "name": "stdout",
     "output_type": "stream",
     "text": [
      "100보다 큰 숫자 입니다!\n"
     ]
    }
   ],
   "source": [
    "user_input = int(input())\n",
    "\n",
    "if user_input<=10:\n",
    "    print(\"10이하의 숫자 입니다!\")\n",
    "elif user_input<=100:\n",
    "    print(\"100이하의 숫자 입니다!\")\n",
    "else:\n",
    "    print(\"100보다 큰 숫자 입니다!\")"
   ]
  },
  {
   "cell_type": "markdown",
   "metadata": {},
   "source": [
    "##### [직접 해보기] 가위바위보 게임 만들기"
   ]
  },
  {
   "cell_type": "code",
   "execution_count": null,
   "metadata": {},
   "outputs": [],
   "source": [
    "import random\n",
    "\n",
    "r = random.choice([\"가위\", \"바위\", \"보\"])\n",
    "user = input(\"가위 바위 보!\")"
   ]
  }
 ],
 "metadata": {
  "kernelspec": {
   "display_name": "Python 3.9.12 64-bit",
   "language": "python",
   "name": "python3"
  },
  "language_info": {
   "codemirror_mode": {
    "name": "ipython",
    "version": 3
   },
   "file_extension": ".py",
   "mimetype": "text/x-python",
   "name": "python",
   "nbconvert_exporter": "python",
   "pygments_lexer": "ipython3",
   "version": "3.9.12"
  },
  "orig_nbformat": 4,
  "vscode": {
   "interpreter": {
    "hash": "ca7051211f7d0cb84f9a5276aced427e23f2f109de898d0e63a1c129a12d67d5"
   }
  }
 },
 "nbformat": 4,
 "nbformat_minor": 2
}
